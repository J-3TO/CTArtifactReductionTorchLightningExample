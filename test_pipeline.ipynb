{
 "cells": [
  {
   "cell_type": "code",
   "execution_count": null,
   "id": "d84e017c-fb6b-4369-aa93-fb18d59bda6d",
   "metadata": {},
   "outputs": [],
   "source": [
    "import os\n",
    "os.environ[\"CUDA_DEVICE_ORDER\"]=\"PCI_BUS_ID\"\n",
    "os.environ[\"CUDA_VISIBLE_DEVICES\"] = \"1\"\n",
    "import sys\n",
    "import numpy as np\n",
    "import torch \n",
    "import lightning\n",
    "import matplotlib.pyplot as plt\n",
    "from networks import *\n",
    "from utils import *\n",
    "import random\n",
    "import tqdm\n",
    "from lightning.pytorch.loggers import CSVLogger, TensorBoardLogger\n",
    "from lightning.pytorch.callbacks import ModelCheckpoint, EarlyStopping\n",
    "from torch.utils.data import DataLoader\n",
    "import pandas as pd\n",
    "%load_ext autoreload\n",
    "%autoreload 2"
   ]
  },
  {
   "cell_type": "code",
   "execution_count": null,
   "id": "5d86b33e-0744-4734-ac3f-e36d99de5f50",
   "metadata": {},
   "outputs": [],
   "source": [
    "#initialize datasets\n",
    "batchsize=16\n",
    "path_sparse = '/data-pool/data_no_backup/ga63cun/PE/64/'\n",
    "path_gt = '/data-pool/data_no_backup/ga63cun/PE/4095/'\n",
    "save_path = \"./model_weights/2DUNet/\"\n",
    "\n",
    "df_train = pd.read_csv(\"./train.csv\") \n",
    "df_val = pd.read_csv(\"./val.csv\")\n",
    "\n",
    "#initialize training parameters\n",
    "lr = 5e-5\n",
    "weight_decay = 1e-2\n",
    "optimizer_algo = \"AdamW\"\n",
    "optimizer_params={\"weight_decay\": weight_decay}\n",
    "scheduler_algo = \"StepLR\"\n",
    "scheduler_params = {\"step_size\":4, \"gamma\":0.9}\n",
    "patch_size = (256, 256)\n",
    "ww = 3_000\n",
    "wl = 0"
   ]
  },
  {
   "cell_type": "code",
   "execution_count": null,
   "id": "e6c1ed60-dbae-41fc-a85e-19775d44e974",
   "metadata": {},
   "outputs": [],
   "source": [
    "dataset_train = SparseDataset(df = df_train, \n",
    "                 path_sparse = path_sparse, \n",
    "                 path_gt = path_gt, \n",
    "                 augmentation = True, \n",
    "                 image_size=patch_size, \n",
    "                 ww=ww, \n",
    "                 wl=wl\n",
    "                             )\n",
    "\n",
    "dataset_val = SparseDataset(df = df_val, \n",
    "                 path_sparse = path_sparse, \n",
    "                 path_gt = path_gt, \n",
    "                 augmentation = False, \n",
    "                 image_size=patch_size, \n",
    "                 ww=ww, \n",
    "                 wl=wl\n",
    "                           )\n",
    "\n",
    "dataloader_train = DataLoader(dataset_train, batch_size=batchsize, num_workers=4, shuffle=True)\n",
    "dataloader_val = DataLoader(dataset_val, batch_size=batchsize, num_workers=4, shuffle=False)"
   ]
  },
  {
   "cell_type": "code",
   "execution_count": null,
   "id": "c70faaf2-1d1c-492b-b57c-7a0267e019e3",
   "metadata": {},
   "outputs": [],
   "source": [
    "#test dataloader\n",
    "\n",
    "batch_sparse_train, batch_gt_train, batch_label_train = next(iter(dataloader_train))\n",
    "batch_sparse_val, batch_gt_val, batch_label_val = next(iter(dataloader_val))\n"
   ]
  },
  {
   "cell_type": "code",
   "execution_count": null,
   "id": "46d3c86f-40ab-4499-b490-a713af1c94f3",
   "metadata": {},
   "outputs": [],
   "source": [
    "k=0\n",
    "\n",
    "fig, ax = plt.subplots(1, 2, figsize=(6, 3))\n",
    "print(batch_label_train[k])\n",
    "ax[0].imshow(batch_sparse_train[k, 0], cmap='gray', vmin=0, vmax=1)\n",
    "ax[1].imshow(batch_gt_train[k, 0], cmap='gray', vmin=0, vmax=1)\n",
    "\n",
    "fig, ax = plt.subplots(1, 2, figsize=(6, 3))\n",
    "print(batch_label_val[k])\n",
    "ax[0].imshow(batch_sparse_val[k, 0], cmap='gray', vmin=0, vmax=1)\n",
    "ax[1].imshow(batch_gt_val[k, 0], cmap='gray', vmin=0, vmax=1)\n"
   ]
  },
  {
   "cell_type": "code",
   "execution_count": null,
   "id": "97b59498-ba3d-40cb-b674-6f9a06561bd2",
   "metadata": {},
   "outputs": [],
   "source": [
    "#initialize model\n",
    "unet = UNet(n_channels=1, n_classes=1, bilinear=True).float()"
   ]
  },
  {
   "cell_type": "code",
   "execution_count": null,
   "id": "aae710e3-45a7-4588-974f-f86728c2c0ce",
   "metadata": {},
   "outputs": [],
   "source": [
    "model = LitModel(unet=unet, \n",
    "                 optimizer_algo=optimizer_algo, \n",
    "                 optimizer_params=optimizer_params,\n",
    "                 loss = nn.MSELoss(reduction='mean'), \n",
    "                 lr = lr,\n",
    "                 scheduler_algo=\"StepLR\",\n",
    "                 scheduler_params=scheduler_params\n",
    "                   )\n",
    "\n",
    "lr_monitor = L.pytorch.callbacks.LearningRateMonitor(logging_interval='epoch')\n",
    "tblogger = TensorBoardLogger(save_path)\n",
    "csvlogger = CSVLogger(save_path, version=tblogger.version)\n",
    "checkpoint = ModelCheckpoint(monitor=\"val_loss\", mode=\"min\", save_top_k=3)\n",
    "early_stopping = EarlyStopping(monitor=\"val_loss\", mode=\"min\", patience=7)\n",
    "\n",
    "trainer = L.Trainer(logger=[csvlogger, tblogger], \n",
    "                    callbacks=[lr_monitor, checkpoint, early_stopping], \n",
    "                    max_epochs=400)"
   ]
  },
  {
   "cell_type": "code",
   "execution_count": null,
   "id": "67aca2d7-7dce-4034-8a86-1c525aee7949",
   "metadata": {},
   "outputs": [],
   "source": [
    "# find good initial learning rate\n",
    "from lightning.pytorch.tuner import Tuner\n",
    "tuner = Tuner(trainer)\n",
    "lr_finder = tuner.lr_find(model, dataloader_train, min_lr=1e-7, max_lr=9e-1, num_training=150, early_stop_threshold=50)\n",
    "print(lr_finder.suggestion())\n",
    "plt.plot(lr_finder.results[\"lr\"], lr_finder.results[\"loss\"])\n",
    "plt.xscale(\"log\")"
   ]
  },
  {
   "cell_type": "code",
   "execution_count": null,
   "id": "ea56eb8c-f8ae-4b48-951f-ddd92e28711b",
   "metadata": {},
   "outputs": [],
   "source": [
    "#test if model overfits on 2 batches\n",
    "trainer = L.Trainer(logger=[csvlogger, tblogger], \n",
    "                    callbacks=[lr_monitor, checkpoint, early_stopping], \n",
    "                    max_epochs=400, overfit_batches=2)\n",
    "\n",
    "trainer.fit(model, dataloader_train, dataloader_val)"
   ]
  },
  {
   "cell_type": "code",
   "execution_count": null,
   "id": "7bb40280-f7e4-437d-9bea-3ec42e945a69",
   "metadata": {},
   "outputs": [],
   "source": [
    "#load model from checkpoint\n",
    "unet = UNet(n_channels=1, n_classes=1, bilinear=True).float()\n",
    "\n",
    "model = LitModel.load_from_checkpoint(\"./model_weights/2DUNet/lightning_logs/version_1/checkpoints/epoch=0-step=5.ckpt\", unet=unet)"
   ]
  }
 ],
 "metadata": {
  "kernelspec": {
   "display_name": "Python 3 (ipykernel)",
   "language": "python",
   "name": "python3"
  },
  "language_info": {
   "codemirror_mode": {
    "name": "ipython",
    "version": 3
   },
   "file_extension": ".py",
   "mimetype": "text/x-python",
   "name": "python",
   "nbconvert_exporter": "python",
   "pygments_lexer": "ipython3",
   "version": "3.8.10"
  }
 },
 "nbformat": 4,
 "nbformat_minor": 5
}
